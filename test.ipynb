{
 "cells": [
  {
   "attachments": {
    "image.png": {
     "image/png": "[encoded data removed]"
    }
   },
   "cell_type": "markdown",
   "metadata": {},
   "source": [
    "Using Virtual Environment\n",
    "![image.png](attachment:image.png)"
   ]
  },
  {
   "cell_type": "markdown",
   "metadata": {},
   "source": [
    "Collapsable Jupyter Notebook Cells"
   ]
  },
  {
   "cell_type": "code",
   "execution_count": null,
   "metadata": {},
   "outputs": [],
   "source": [
    "pip install jupyter_contrib_nbextensions\n",
    "jupyter contrib nbextension install --user"
   ]
  },
  {
   "cell_type": "markdown",
   "metadata": {},
   "source": [
    "Mermaid Diagram"
   ]
  },
  {
   "cell_type": "markdown",
   "metadata": {},
   "source": [
    "```mermaid\n",
    "graph TD;\n",
    "    A-->B;\n",
    "    A-->C;\n",
    "    B-->D;\n",
    "    C-->D;\n",
    "```"
   ]
  },
  {
   "cell_type": "markdown",
   "metadata": {},
   "source": [
    "Print All Langchain Tools"
   ]
  },
  {
   "cell_type": "code",
   "execution_count": 1,
   "metadata": {},
   "outputs": [
    {
     "name": "stdout",
     "output_type": "stream",
     "text": [
      "[   'requests',\n",
      "    'requests_get',\n",
      "    'requests_post',\n",
      "    'requests_patch',\n",
      "    'requests_put',\n",
      "    'requests_delete',\n",
      "    'terminal',\n",
      "    'sleep',\n",
      "    'wolfram-alpha',\n",
      "    'google-search',\n",
      "    'google-search-results-json',\n",
      "    'searx-search-results-json',\n",
      "    'bing-search',\n",
      "    'metaphor-search',\n",
      "    'ddg-search',\n",
      "    'google-lens',\n",
      "    'google-serper',\n",
      "    'google-scholar',\n",
      "    'google-finance',\n",
      "    'google-trends',\n",
      "    'google-jobs',\n",
      "    'google-serper-results-json',\n",
      "    'searchapi',\n",
      "    'searchapi-results-json',\n",
      "    'serpapi',\n",
      "    'dalle-image-generator',\n",
      "    'twilio',\n",
      "    'searx-search',\n",
      "    'merriam-webster',\n",
      "    'wikipedia',\n",
      "    'arxiv',\n",
      "    'golden-query',\n",
      "    'pubmed',\n",
      "    'human',\n",
      "    'awslambda',\n",
      "    'stackexchange',\n",
      "    'sceneXplain',\n",
      "    'graphql',\n",
      "    'openweathermap-api',\n",
      "    'dataforseo-api-search',\n",
      "    'dataforseo-api-search-json',\n",
      "    'eleven_labs_text2speech',\n",
      "    'google_cloud_texttospeech',\n",
      "    'reddit_search',\n",
      "    'news-api',\n",
      "    'tmdb-api',\n",
      "    'podcast-api',\n",
      "    'memorize',\n",
      "    'llm-math',\n",
      "    'open-meteo-api']\n"
     ]
    }
   ],
   "source": [
    "import pprint\n",
    "from langchain.agents import get_all_tool_names\n",
    "\n",
    "pp = pprint.PrettyPrinter(indent=4)\n",
    "pp.pprint(get_all_tool_names())"
   ]
  },
  {
   "cell_type": "markdown",
   "metadata": {},
   "source": [
    "Tools Demo"
   ]
  },
  {
   "cell_type": "code",
   "execution_count": null,
   "metadata": {},
   "outputs": [],
   "source": [
    "import pprint\n",
    "from langchain.agents import get_all_tool_names\n",
    "from langchain.agents import load_tools, initialize_agent\n",
    "from langchain.agents import AgentType\n",
    "from langchain_openai import OpenAI\n",
    "\n",
    "llm = OpenAI(temperature=0)\n",
    "prompt = \"When was the 4rd president of the united states born? What is that year raised to the power of 3?\"\n",
    "\n",
    "tools = load_tools([\"wikipedia\", \"llm-math\"], llm=llm)\n",
    "agent = initialize_agent(tools, llm, agent=AgentType.ZERO_SHOT_REACT_DESCRIPTION, verbose=True)\n",
    "\n",
    "agent.run(prompt)"
   ]
  },
  {
   "cell_type": "markdown",
   "metadata": {},
   "source": [
    "Human Input to Agent"
   ]
  },
  {
   "cell_type": "code",
   "execution_count": null,
   "metadata": {},
   "outputs": [],
   "source": [
    "from langchain_openai import OpenAI\n",
    "from langchain.agents import load_tools, initialize_agent\n",
    "from langchain.agents import AgentType\n",
    "\n",
    "llm = OpenAI(temperature=0)\n",
    "tools = load_tools([\"human\"]) #The param \"human\" specify that human manual input is required.\n",
    "\n",
    "agent_chain = initialize_agent(tools, llm, agent=AgentType.ZERO_SHOT_REACT_DESCRIPTION, verbose=True)\n",
    "\n",
    "agent_chain.invoke({\"input\":\"What's my friend Andi's surname\"})"
   ]
  },
  {
   "cell_type": "markdown",
   "metadata": {},
   "source": [
    "Human Input New Way"
   ]
  },
  {
   "cell_type": "code",
   "execution_count": null,
   "metadata": {},
   "outputs": [],
   "source": [
    "import os\n",
    "from dotenv import load_dotenv\n",
    "from langchain_openai import ChatOpenAI\n",
    "from langchain_openai import OpenAI\n",
    "from langchain.agents import load_tools, create_json_chat_agent\n",
    "from langchain.agents import AgentExecutor\n",
    "from langchain import hub\n",
    "\n",
    "load_dotenv()\n",
    "print(\"Key:\" + os.environ[\"OPENAI_API_KEY\"])\n",
    "\n",
    "llm = ChatOpenAI(temperature=0.0)\n",
    "math_llm = OpenAI(temperature=0.0)\n",
    "tools = load_tools(\n",
    "    [\"human\", \"llm-math\"],\n",
    "    llm=math_llm,\n",
    ")\n",
    "prompt = hub.pull(\"hwchase17/react-chat-json\")\n",
    "\n",
    "agent = create_json_chat_agent(llm, tools, prompt)\n",
    "\n",
    "agent_executor = AgentExecutor(agent=agent, tools=tools, handle_parsing_errors=True)\n",
    "\n",
    "agent_executor.invoke({\"input\": \"hi\"})\n",
    "\n",
    "# Using with chat history\n",
    "from langchain_core.messages import AIMessage, HumanMessage\n",
    "agent_executor.invoke(\n",
    "    {\n",
    "        \"input\": \"what's my name?\",\n",
    "        \"chat_history\": [\n",
    "            HumanMessage(content=\"hi! my name is bob\"),\n",
    "            AIMessage(content=\"Hello Bob! How can I assist you today?\"),\n",
    "            ],\n",
    "    }\n",
    ")"
   ]
  }
 ],
 "metadata": {
  "kernelspec": {
   "display_name": "pyt",
   "language": "python",
   "name": "python3"
  },
  "language_info": {
   "codemirror_mode": {
    "name": "ipython",
    "version": 3
   },
   "file_extension": ".py",
   "mimetype": "text/x-python",
   "name": "python",
   "nbconvert_exporter": "python",
   "pygments_lexer": "ipython3",
   "version": "3.10.6"
  }
 },
 "nbformat": 4,
 "nbformat_minor": 2
}
