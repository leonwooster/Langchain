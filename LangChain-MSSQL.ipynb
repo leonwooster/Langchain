{
 "cells": [
  {
   "cell_type": "markdown",
   "metadata": {},
   "source": [
    "<h1>Example Langchain with MSSQL Server</h1>"
   ]
  },
  {
   "cell_type": "markdown",
   "metadata": {},
   "source": [
    "<h4>Initialize the DB</h4>"
   ]
  },
  {
   "cell_type": "code",
   "execution_count": 1,
   "metadata": {},
   "outputs": [
    {
     "name": "stdout",
     "output_type": "stream",
     "text": [
      "Collecting pyodbc\n",
      "  Downloading pyodbc-5.0.1-cp310-cp310-win_amd64.whl (68 kB)\n",
      "     -------------------------------------- 68.7/68.7 kB 943.4 kB/s eta 0:00:00\n",
      "Installing collected packages: pyodbc\n",
      "Successfully installed pyodbc-5.0.1\n"
     ]
    },
    {
     "name": "stderr",
     "output_type": "stream",
     "text": [
      "\n",
      "[notice] A new release of pip available: 22.2.1 -> 23.3.2\n",
      "[notice] To update, run: python.exe -m pip install --upgrade pip\n"
     ]
    }
   ],
   "source": [
    "!pip install pyodbc"
   ]
  },
  {
   "cell_type": "code",
   "execution_count": 1,
   "metadata": {},
   "outputs": [
    {
     "name": "stdout",
     "output_type": "stream",
     "text": [
      "<langchain_community.utilities.sql_database.SQLDatabase object at 0x000001A9C710ABC0>\n"
     ]
    }
   ],
   "source": [
    "from langchain.sql_database import SQLDatabase\n",
    "\n",
    "# Replace the following with your actual connection details\n",
    "username = 'user1'\n",
    "password = 'IoP3X5_QRFiE'\n",
    "servername = 'localhost'  # or your server's name\n",
    "databasename = 'AdventureWorks2017'\n",
    "\n",
    "# MSSQL connection URI\n",
    "connection_uri = f\"mssql+pyodbc://{username}:{password}@{servername}/{databasename}?driver=ODBC+Driver+17+for+SQL+Server\"\n",
    "#connection_uri = f\"mssql+pyodbc://{username}:{password}@{servername}/{databasename}?driver=SQL+Server\"\n",
    "\n",
    "db = SQLDatabase.from_uri(connection_uri)\n",
    "print(db)"
   ]
  },
  {
   "cell_type": "code",
   "execution_count": 2,
   "metadata": {},
   "outputs": [],
   "source": [
    "from langchain_community.agent_toolkits import (create_sql_agent, SQLDatabaseToolkit)\n",
    "from langchain_openai import ChatOpenAI\n",
    "from langchain_community.agent_toolkits.sql.prompt import SQL_FUNCTIONS_SUFFIX\n",
    "from langchain_core.messages import AIMessage, SystemMessage\n",
    "from langchain_core.prompts.chat import (\n",
    "    ChatPromptTemplate,\n",
    "    HumanMessagePromptTemplate,\n",
    "    MessagesPlaceholder,\n",
    ")\n",
    "\n",
    "toolkit = SQLDatabaseToolkit(db=db, llm=ChatOpenAI(temperature=0))\n",
    "tools = toolkit.get_tools()\n",
    "\n",
    "messages = [\n",
    "    HumanMessagePromptTemplate.from_template(\"{input}\"),\n",
    "    AIMessage(content=SQL_FUNCTIONS_SUFFIX),\n",
    "    MessagesPlaceholder(variable_name=\"agent_scratchpad\"),\n",
    "]\n",
    "\n",
    "prompt = ChatPromptTemplate.from_messages(messages)\n",
    "\n"
   ]
  },
  {
   "cell_type": "code",
   "execution_count": 3,
   "metadata": {},
   "outputs": [],
   "source": [
    "from langchain.agents import create_openai_tools_agent\n",
    "from langchain.agents.agent import AgentExecutor\n",
    "\n",
    "llm = ChatOpenAI(model=\"gpt-3.5-turbo\", temperature=0)\n",
    "\n",
    "agent = create_openai_tools_agent(llm, tools, prompt)\n",
    "\n",
    "agent_executor = AgentExecutor(\n",
    "    agent=agent,\n",
    "    tools=toolkit.get_tools(),\n",
    "    verbose=True,\n",
    ")"
   ]
  },
  {
   "cell_type": "code",
   "execution_count": 4,
   "metadata": {},
   "outputs": [
    {
     "name": "stdout",
     "output_type": "stream",
     "text": [
      "\n",
      "\n",
      "\u001b[1m> Entering new AgentExecutor chain...\u001b[0m\n",
      "\u001b[32;1m\u001b[1;3m\n",
      "Invoking: `sql_db_list_tables` with ``\n",
      "\n",
      "\n",
      "\u001b[0m\u001b[38;5;200m\u001b[1;3mAWBuildVersion, DatabaseLog, ErrorLog\u001b[0m\u001b[32;1m\u001b[1;3m\n",
      "Invoking: `sql_db_schema` with `Sales.Customer`\n",
      "\n",
      "\n",
      "\u001b[0m\u001b[33;1m\u001b[1;3mError: table_names {'Sales.Customer'} not found in database\u001b[0m\u001b[32;1m\u001b[1;3mI apologize, but it seems that the [Sales].[Customer] table does not exist in the database. Please make sure that the table name is correct and try again.\u001b[0m\n",
      "\n",
      "\u001b[1m> Finished chain.\u001b[0m\n"
     ]
    },
    {
     "data": {
      "text/plain": [
       "{'input': 'Describe the schema of the [Sales].[Customer] table',\n",
       " 'output': 'I apologize, but it seems that the [Sales].[Customer] table does not exist in the database. Please make sure that the table name is correct and try again.'}"
      ]
     },
     "execution_count": 4,
     "metadata": {},
     "output_type": "execute_result"
    }
   ],
   "source": [
    "agent_executor.invoke({\"input\": \"Describe the schema of the [Sales].[Customer] table\"})"
   ]
  }
 ],
 "metadata": {
  "kernelspec": {
   "display_name": "python3106_langchain",
   "language": "python",
   "name": "python3"
  },
  "language_info": {
   "codemirror_mode": {
    "name": "ipython",
    "version": 3
   },
   "file_extension": ".py",
   "mimetype": "text/x-python",
   "name": "python",
   "nbconvert_exporter": "python",
   "pygments_lexer": "ipython3",
   "version": "3.10.6"
  }
 },
 "nbformat": 4,
 "nbformat_minor": 2
}
