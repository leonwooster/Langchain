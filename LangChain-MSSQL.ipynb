{
 "cells": [
  {
   "cell_type": "markdown",
   "metadata": {},
   "source": [
    "<h1>Example Langchain with MSSQL Server</h1>"
   ]
  },
  {
   "cell_type": "markdown",
   "metadata": {},
   "source": [
    "<h4>Initialize the DB</h4>"
   ]
  },
  {
   "cell_type": "code",
   "execution_count": null,
   "metadata": {},
   "outputs": [],
   "source": [
    "!pip install pyodbc"
   ]
  },
  {
   "cell_type": "code",
   "execution_count": 1,
   "metadata": {},
   "outputs": [
    {
     "name": "stderr",
     "output_type": "stream",
     "text": [
      "j:\\AI\\LLM-Course-2\\LangChain-101-For-Beginners-Python\\Custom_SqlDatabase.py:93: SAWarning: Did not recognize type 'geography' of column 'SpatialLocation'\n",
      "  self._metadata.reflect(\n",
      "j:\\AI\\LLM-Course-2\\LangChain-101-For-Beginners-Python\\Custom_SqlDatabase.py:93: SAWarning: Did not recognize type 'hierarchyid' of column 'OrganizationNode'\n",
      "  self._metadata.reflect(\n"
     ]
    },
    {
     "name": "stdout",
     "output_type": "stream",
     "text": [
      "<Custom_SqlDatabase.SQLDatabase object at 0x000001A9F9A31510>\n"
     ]
    }
   ],
   "source": [
    "# from langchain.sql_database import SQLDatabase\n",
    "from Custom_SqlDatabase import SQLDatabase\n",
    "\n",
    "# Replace the following with your actual connection details\n",
    "username = 'user1'\n",
    "password = 'IoP3X5_QRFiE'\n",
    "servername = 'localhost'  # or your server's name\n",
    "databasename = 'FoodFare'\n",
    "\n",
    "# MSSQL connection URI\n",
    "connection_uri = f\"mssql+pyodbc://{username}:{password}@{servername}/{databasename}?driver=ODBC+Driver+17+for+SQL+Server\"\n",
    "#connection_uri = f\"mssql+pyodbc://{username}:{password}@{servername}/{databasename}?driver=SQL+Server\"\n",
    "\n",
    "db = SQLDatabase.from_uri(connection_uri, schemas=['dbo','Sales'])\n",
    "print(db)"
   ]
  },
  {
   "cell_type": "code",
   "execution_count": 2,
   "metadata": {},
   "outputs": [],
   "source": [
    "from langchain_community.agent_toolkits import (create_sql_agent, SQLDatabaseToolkit)\n",
    "from langchain_openai import ChatOpenAI\n",
    "from langchain_community.agent_toolkits.sql.prompt import SQL_FUNCTIONS_SUFFIX\n",
    "from langchain_core.messages import AIMessage, SystemMessage\n",
    "from langchain_core.prompts.chat import (\n",
    "    ChatPromptTemplate,\n",
    "    HumanMessagePromptTemplate,\n",
    "    MessagesPlaceholder,\n",
    ")\n",
    "\n",
    "toolkit = SQLDatabaseToolkit(db=db, llm=ChatOpenAI(temperature=0))\n",
    "tools = toolkit.get_tools()\n",
    "\n",
    "messages = [\n",
    "    HumanMessagePromptTemplate.from_template(\"{input}\"),\n",
    "    AIMessage(content=SQL_FUNCTIONS_SUFFIX),\n",
    "    MessagesPlaceholder(variable_name=\"agent_scratchpad\"),\n",
    "]\n",
    "\n",
    "prompt = ChatPromptTemplate.from_messages(messages)\n",
    "\n"
   ]
  },
  {
   "cell_type": "code",
   "execution_count": 3,
   "metadata": {},
   "outputs": [],
   "source": [
    "from langchain.agents import create_openai_tools_agent\n",
    "from langchain.agents.agent import AgentExecutor\n",
    "\n",
    "llm = ChatOpenAI(model=\"gpt-3.5-turbo\", temperature=0)\n",
    "\n",
    "agent = create_openai_tools_agent(llm, tools, prompt)\n",
    "\n",
    "agent_executor = AgentExecutor(\n",
    "    agent=agent,\n",
    "    tools=toolkit.get_tools(),\n",
    "    verbose=True,\n",
    ")"
   ]
  },
  {
   "cell_type": "code",
   "execution_count": 53,
   "metadata": {},
   "outputs": [
    {
     "name": "stdout",
     "output_type": "stream",
     "text": [
      "\n",
      "\n",
      "\u001b[1m> Entering new AgentExecutor chain...\u001b[0m\n",
      "\u001b[32;1m\u001b[1;3m\n",
      "Invoking: `sql_db_list_tables` with `{'tool_input': ''}`\n",
      "\n",
      "\n",
      "\u001b[0m\u001b[38;5;200m\u001b[1;3mSales.CountryRegionCurrency, Sales.CreditCard, Sales.Currency, Sales.CurrencyRate, Sales.Customer, Sales.PersonCreditCard, Sales.SalesOrderDetail, Sales.SalesOrderHeader, Sales.SalesOrderHeaderSalesReason, Sales.SalesPerson, Sales.SalesPersonQuotaHistory, Sales.SalesReason, Sales.SalesTaxRate, Sales.SalesTerritory, Sales.SalesTerritoryHistory, Sales.ShoppingCartItem, Sales.SpecialOffer, Sales.SpecialOfferProduct, Sales.Store, dbo.AWBuildVersion, dbo.DatabaseLog, dbo.ErrorLog, dbo.Test\u001b[0m\u001b[32;1m\u001b[1;3m\n",
      "Invoking: `sql_db_schema` with `{'table_names': 'Sales.Customer'}`\n",
      "\n",
      "\n",
      "\u001b[0m\u001b[33;1m\u001b[1;3m\n",
      "CREATE TABLE [Sales].[Customer] (\n",
      "\t[CustomerID] INTEGER NOT NULL IDENTITY(1,1), \n",
      "\t[PersonID] INTEGER NULL, \n",
      "\t[StoreID] INTEGER NULL, \n",
      "\t[TerritoryID] INTEGER NULL, \n",
      "\t[AccountNumber] AS ((isnull('AW'+[dbo].[ufnLeadingZeros]([CustomerID]),''))) NOT NULL, \n",
      "\trowguid UNIQUEIDENTIFIER NOT NULL DEFAULT (newid()), \n",
      "\t[ModifiedDate] DATETIME NOT NULL DEFAULT (getdate()), \n",
      "\tCONSTRAINT [PK_Customer_CustomerID] PRIMARY KEY ([CustomerID]), \n",
      "\tCONSTRAINT [FK_Customer_Person_PersonID] FOREIGN KEY([PersonID]) REFERENCES [Person].[Person] ([BusinessEntityID]), \n",
      "\tCONSTRAINT [FK_Customer_SalesTerritory_TerritoryID] FOREIGN KEY([TerritoryID]) REFERENCES [Sales].[SalesTerritory] ([TerritoryID]), \n",
      "\tCONSTRAINT [FK_Customer_Store_StoreID] FOREIGN KEY([StoreID]) REFERENCES [Sales].[Store] ([BusinessEntityID])\n",
      ")\n",
      "\n",
      "/*\n",
      "3 rows from Customer table:\n",
      "CustomerID\tPersonID\tStoreID\tTerritoryID\tAccountNumber\trowguid\tModifiedDate\n",
      "1\tNone\t934\t1\tAW00000001\t3f5ae95e-b87d-4aed-95b4-c3797afcb74f\t2014-09-12 11:15:07.263000\n",
      "2\tNone\t1028\t1\tAW00000002\te552f657-a9af-4a7d-a645-c429d6e02491\t2014-09-12 11:15:07.263000\n",
      "3\tNone\t642\t4\tAW00000003\t130774b1-db21-4ef3-98c8-c104bcd6ed6d\t2014-09-12 11:15:07.263000\n",
      "*/\u001b[0m\u001b[32;1m\u001b[1;3mThe schema of the Customer table is as follows:\n",
      "\n",
      "- CustomerID: INTEGER, NOT NULL, IDENTITY(1,1)\n",
      "- PersonID: INTEGER, NULL\n",
      "- StoreID: INTEGER, NULL\n",
      "- TerritoryID: INTEGER, NULL\n",
      "- AccountNumber: Computed column (AS ((isnull('AW'+[dbo].[ufnLeadingZeros]([CustomerID]),''))), NOT NULL\n",
      "- rowguid: UNIQUEIDENTIFIER, NOT NULL, DEFAULT (newid())\n",
      "- ModifiedDate: DATETIME, NOT NULL, DEFAULT (getdate())\n",
      "\n",
      "Primary Key:\n",
      "- PK_Customer_CustomerID: CustomerID\n",
      "\n",
      "Foreign Keys:\n",
      "- FK_Customer_Person_PersonID: PersonID references Person.BusinessEntityID\n",
      "- FK_Customer_SalesTerritory_TerritoryID: TerritoryID references Sales.SalesTerritory.TerritoryID\n",
      "- FK_Customer_Store_StoreID: StoreID references Sales.Store.BusinessEntityID\n",
      "\n",
      "Sample rows from the Customer table:\n",
      "| CustomerID | PersonID | StoreID | TerritoryID | AccountNumber | rowguid                              | ModifiedDate           |\n",
      "|------------|----------|---------|-------------|---------------|--------------------------------------|------------------------|\n",
      "| 1          | None     | 934     | 1           | AW00000001    | 3f5ae95e-b87d-4aed-95b4-c3797afcb74f | 2014-09-12 11:15:07.263|\n",
      "| 2          | None     | 1028    | 1           | AW00000002    | e552f657-a9af-4a7d-a645-c429d6e02491 | 2014-09-12 11:15:07.263|\n",
      "| 3          | None     | 642     | 4           | AW00000003    | 130774b1-db21-4ef3-98c8-c104bcd6ed6d | 2014-09-12 11:15:07.263|\u001b[0m\n",
      "\n",
      "\u001b[1m> Finished chain.\u001b[0m\n"
     ]
    },
    {
     "data": {
      "text/plain": [
       "{'input': 'Describe the schema of the Customer table',\n",
       " 'output': \"The schema of the Customer table is as follows:\\n\\n- CustomerID: INTEGER, NOT NULL, IDENTITY(1,1)\\n- PersonID: INTEGER, NULL\\n- StoreID: INTEGER, NULL\\n- TerritoryID: INTEGER, NULL\\n- AccountNumber: Computed column (AS ((isnull('AW'+[dbo].[ufnLeadingZeros]([CustomerID]),''))), NOT NULL\\n- rowguid: UNIQUEIDENTIFIER, NOT NULL, DEFAULT (newid())\\n- ModifiedDate: DATETIME, NOT NULL, DEFAULT (getdate())\\n\\nPrimary Key:\\n- PK_Customer_CustomerID: CustomerID\\n\\nForeign Keys:\\n- FK_Customer_Person_PersonID: PersonID references Person.BusinessEntityID\\n- FK_Customer_SalesTerritory_TerritoryID: TerritoryID references Sales.SalesTerritory.TerritoryID\\n- FK_Customer_Store_StoreID: StoreID references Sales.Store.BusinessEntityID\\n\\nSample rows from the Customer table:\\n| CustomerID | PersonID | StoreID | TerritoryID | AccountNumber | rowguid                              | ModifiedDate           |\\n|------------|----------|---------|-------------|---------------|--------------------------------------|------------------------|\\n| 1          | None     | 934     | 1           | AW00000001    | 3f5ae95e-b87d-4aed-95b4-c3797afcb74f | 2014-09-12 11:15:07.263|\\n| 2          | None     | 1028    | 1           | AW00000002    | e552f657-a9af-4a7d-a645-c429d6e02491 | 2014-09-12 11:15:07.263|\\n| 3          | None     | 642     | 4           | AW00000003    | 130774b1-db21-4ef3-98c8-c104bcd6ed6d | 2014-09-12 11:15:07.263|\"}"
      ]
     },
     "execution_count": 53,
     "metadata": {},
     "output_type": "execute_result"
    }
   ],
   "source": [
    "agent_executor.invoke({\"input\": \"Describe the schema of the Customer table\"})"
   ]
  }
 ],
 "metadata": {
  "kernelspec": {
   "display_name": "python3106_langchain",
   "language": "python",
   "name": "python3"
  },
  "language_info": {
   "codemirror_mode": {
    "name": "ipython",
    "version": 3
   },
   "file_extension": ".py",
   "mimetype": "text/x-python",
   "name": "python",
   "nbconvert_exporter": "python",
   "pygments_lexer": "ipython3",
   "version": "3.10.6"
  }
 },
 "nbformat": 4,
 "nbformat_minor": 2
}
