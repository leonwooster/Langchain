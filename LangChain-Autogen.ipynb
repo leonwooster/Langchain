{
 "cells": [
  {
   "cell_type": "markdown",
   "metadata": {},
   "source": [
    "<h1>Example Langchain with MSSQL Server</h1>"
   ]
  },
  {
   "cell_type": "markdown",
   "metadata": {},
   "source": [
    "<h4>Initialize the DB</h4>"
   ]
  },
  {
   "cell_type": "code",
   "execution_count": null,
   "metadata": {},
   "outputs": [],
   "source": [
    "!pip install pyodbc"
   ]
  },
  {
   "cell_type": "code",
   "execution_count": 1,
   "metadata": {},
   "outputs": [
    {
     "name": "stdout",
     "output_type": "stream",
     "text": [
      "<Custom_SqlDatabase.SQLDatabase object at 0x000002152A169330>\n"
     ]
    }
   ],
   "source": [
    "# from langchain.sql_database import SQLDatabase\n",
    "from Custom_SqlDatabase import SQLDatabase\n",
    "\n",
    "# Replace the following with your actual connection details\n",
    "username = 'user1'\n",
    "password = 'IoP3X5_QRFiE'\n",
    "servername = 'localhost'  # or your server's name\n",
    "databasename = 'FoodFare'\n",
    "\n",
    "# MSSQL connection URI\n",
    "connection_uri = f\"mssql+pyodbc://{username}:{password}@{servername}/{databasename}?driver=ODBC+Driver+17+for+SQL+Server\"\n",
    "#connection_uri = f\"mssql+pyodbc://{username}:{password}@{servername}/{databasename}?driver=SQL+Server\"\n",
    "\n",
    "db = SQLDatabase.from_uri(connection_uri, schemas=['dbo','Identity'])\n",
    "print(db)"
   ]
  },
  {
   "cell_type": "code",
   "execution_count": 2,
   "metadata": {},
   "outputs": [],
   "source": [
    "from langchain_community.agent_toolkits import (create_sql_agent, SQLDatabaseToolkit)\n",
    "from langchain_openai import ChatOpenAI\n",
    "from langchain_community.agent_toolkits.sql.prompt import SQL_FUNCTIONS_SUFFIX\n",
    "from langchain_core.messages import AIMessage, SystemMessage\n",
    "from langchain_core.prompts.chat import (\n",
    "    ChatPromptTemplate,\n",
    "    HumanMessagePromptTemplate,\n",
    "    MessagesPlaceholder,\n",
    ")\n",
    "import autogen\n",
    "\n",
    "toolkit = SQLDatabaseToolkit(db=db, llm=ChatOpenAI(temperature=0))\n",
    "tools = toolkit.get_tools()\n",
    "\n",
    "messages = [\n",
    "    HumanMessagePromptTemplate.from_template(\"{input}\"),\n",
    "    AIMessage(content=SQL_FUNCTIONS_SUFFIX),\n",
    "    MessagesPlaceholder(variable_name=\"agent_scratchpad\"),\n",
    "]\n",
    "\n",
    "prompt = ChatPromptTemplate.from_messages(messages)\n",
    "\n"
   ]
  },
  {
   "cell_type": "code",
   "execution_count": 3,
   "metadata": {},
   "outputs": [],
   "source": [
    "from langchain.agents import create_openai_tools_agent\n",
    "from langchain.agents.agent import AgentExecutor\n",
    "\n",
    "llm = ChatOpenAI(model=\"gpt-3.5-turbo\", temperature=0)\n",
    "\n",
    "agent = create_openai_tools_agent(llm, tools, prompt)\n",
    "\n",
    "agent_executor = AgentExecutor(\n",
    "    agent=agent,\n",
    "    tools=toolkit.get_tools(),\n",
    "    verbose=True,\n",
    ")"
   ]
  },
  {
   "cell_type": "code",
   "execution_count": 4,
   "metadata": {},
   "outputs": [
    {
     "name": "stdout",
     "output_type": "stream",
     "text": [
      "\n",
      "\n",
      "\u001b[1m> Entering new AgentExecutor chain...\u001b[0m\n",
      "\u001b[32;1m\u001b[1;3m\n",
      "Invoking: `sql_db_list_tables` with `{'tool_input': ''}`\n",
      "\n",
      "\n",
      "\u001b[0m\u001b[38;5;200m\u001b[1;3mIdentity.RoleAccess, Identity.RoleClaims, Identity.Roles, Identity.UserClaims, Identity.UserLogins, Identity.UserRoles, Identity.UserTokens, Identity.Users, dbo.Booths, dbo.UsersBooths, dbo.__EFMigrationsHistory\u001b[0m\u001b[32;1m\u001b[1;3m\n",
      "Invoking: `sql_db_schema` with `{'table_names': 'Identity.Users'}`\n",
      "\n",
      "\n",
      "\u001b[0m\u001b[33;1m\u001b[1;3m\n",
      "CREATE TABLE [Identity].[Users] (\n",
      "\t[Id] UNIQUEIDENTIFIER NOT NULL, \n",
      "\t[Name] NVARCHAR(max) COLLATE SQL_Latin1_General_CP1_CI_AS NOT NULL, \n",
      "\t[UserName] NVARCHAR(256) COLLATE SQL_Latin1_General_CP1_CI_AS NULL, \n",
      "\t[NormalizedUserName] NVARCHAR(256) COLLATE SQL_Latin1_General_CP1_CI_AS NULL, \n",
      "\t[Email] NVARCHAR(256) COLLATE SQL_Latin1_General_CP1_CI_AS NULL, \n",
      "\t[NormalizedEmail] NVARCHAR(256) COLLATE SQL_Latin1_General_CP1_CI_AS NULL, \n",
      "\t[EmailConfirmed] BIT NOT NULL, \n",
      "\t[PasswordHash] NVARCHAR(max) COLLATE SQL_Latin1_General_CP1_CI_AS NULL, \n",
      "\t[SecurityStamp] NVARCHAR(max) COLLATE SQL_Latin1_General_CP1_CI_AS NULL, \n",
      "\t[ConcurrencyStamp] NVARCHAR(max) COLLATE SQL_Latin1_General_CP1_CI_AS NULL, \n",
      "\t[PhoneNumber] NVARCHAR(max) COLLATE SQL_Latin1_General_CP1_CI_AS NULL, \n",
      "\t[PhoneNumberConfirmed] BIT NOT NULL, \n",
      "\t[TwoFactorEnabled] BIT NOT NULL, \n",
      "\t[LockoutEnd] DATETIMEOFFSET NULL, \n",
      "\t[LockoutEnabled] BIT NOT NULL, \n",
      "\t[AccessFailedCount] INTEGER NOT NULL, \n",
      "\tCONSTRAINT [PK_Users] PRIMARY KEY ([Id])\n",
      ")\n",
      "\n",
      "/*\n",
      "3 rows from Users table:\n",
      "Id\tName\tUserName\tNormalizedUserName\tEmail\tNormalizedEmail\tEmailConfirmed\tPasswordHash\tSecurityStamp\tConcurrencyStamp\tPhoneNumber\tPhoneNumberConfirmed\tTwoFactorEnabled\tLockoutEnd\tLockoutEnabled\tAccessFailedCount\n",
      "15b7f7b9-af30-4bb1-f559-08dc6783bf01\t\tleonwoo@yahoo.com\tLEONWOO@YAHOO.COM\tleonwoo@yahoo.com\tLEONWOO@YAHOO.COM\tTrue\tAQAAAAIAAYagAAAAEINcobrGDieAgahGk3tIeOQvTTr6BKFdpB1pzIfYbznSk6NW21JWuQGTqcLpY73dPA==\t76EFJLLX2BLQU2BPWOKFIQXPQUEF2U5J\t3e48ed10-6121-4921-8770-c225390b21c7\tNone\tFalse\tFalse\tNone\tTrue\t0\n",
      "*/\u001b[0m\u001b[32;1m\u001b[1;3mThe `Identity.Users` table has the following schema:\n",
      "\n",
      "- Id: UNIQUEIDENTIFIER\n",
      "- Name: NVARCHAR(max)\n",
      "- UserName: NVARCHAR(256)\n",
      "- NormalizedUserName: NVARCHAR(256)\n",
      "- Email: NVARCHAR(256)\n",
      "- NormalizedEmail: NVARCHAR(256)\n",
      "- EmailConfirmed: BIT\n",
      "- PasswordHash: NVARCHAR(max)\n",
      "- SecurityStamp: NVARCHAR(max)\n",
      "- ConcurrencyStamp: NVARCHAR(max)\n",
      "- PhoneNumber: NVARCHAR(max)\n",
      "- PhoneNumberConfirmed: BIT\n",
      "- TwoFactorEnabled: BIT\n",
      "- LockoutEnd: DATETIMEOFFSET\n",
      "- LockoutEnabled: BIT\n",
      "- AccessFailedCount: INTEGER\n",
      "\n",
      "Here is a C# class representing the `Identity.Users` table as a business object:\n",
      "\n",
      "```csharp\n",
      "using System;\n",
      "\n",
      "public class User\n",
      "{\n",
      "    public Guid Id { get; set; }\n",
      "    public string Name { get; set; }\n",
      "    public string UserName { get; set; }\n",
      "    public string NormalizedUserName { get; set; }\n",
      "    public string Email { get; set; }\n",
      "    public string NormalizedEmail { get; set; }\n",
      "    public bool EmailConfirmed { get; set; }\n",
      "    public string PasswordHash { get; set; }\n",
      "    public string SecurityStamp { get; set; }\n",
      "    public string ConcurrencyStamp { get; set; }\n",
      "    public string PhoneNumber { get; set; }\n",
      "    public bool PhoneNumberConfirmed { get; set; }\n",
      "    public bool TwoFactorEnabled { get; set; }\n",
      "    public DateTimeOffset? LockoutEnd { get; set; }\n",
      "    public bool LockoutEnabled { get; set; }\n",
      "    public int AccessFailedCount { get; set; }\n",
      "}\n",
      "```\n",
      "\n",
      "This C# class represents the `Identity.Users` table with properties corresponding to each column in the table.\u001b[0m\n",
      "\n",
      "\u001b[1m> Finished chain.\u001b[0m\n"
     ]
    },
    {
     "data": {
      "text/plain": [
       "{'input': 'convert the Identity.Users table into a business object class in C#',\n",
       " 'output': 'The `Identity.Users` table has the following schema:\\n\\n- Id: UNIQUEIDENTIFIER\\n- Name: NVARCHAR(max)\\n- UserName: NVARCHAR(256)\\n- NormalizedUserName: NVARCHAR(256)\\n- Email: NVARCHAR(256)\\n- NormalizedEmail: NVARCHAR(256)\\n- EmailConfirmed: BIT\\n- PasswordHash: NVARCHAR(max)\\n- SecurityStamp: NVARCHAR(max)\\n- ConcurrencyStamp: NVARCHAR(max)\\n- PhoneNumber: NVARCHAR(max)\\n- PhoneNumberConfirmed: BIT\\n- TwoFactorEnabled: BIT\\n- LockoutEnd: DATETIMEOFFSET\\n- LockoutEnabled: BIT\\n- AccessFailedCount: INTEGER\\n\\nHere is a C# class representing the `Identity.Users` table as a business object:\\n\\n```csharp\\nusing System;\\n\\npublic class User\\n{\\n    public Guid Id { get; set; }\\n    public string Name { get; set; }\\n    public string UserName { get; set; }\\n    public string NormalizedUserName { get; set; }\\n    public string Email { get; set; }\\n    public string NormalizedEmail { get; set; }\\n    public bool EmailConfirmed { get; set; }\\n    public string PasswordHash { get; set; }\\n    public string SecurityStamp { get; set; }\\n    public string ConcurrencyStamp { get; set; }\\n    public string PhoneNumber { get; set; }\\n    public bool PhoneNumberConfirmed { get; set; }\\n    public bool TwoFactorEnabled { get; set; }\\n    public DateTimeOffset? LockoutEnd { get; set; }\\n    public bool LockoutEnabled { get; set; }\\n    public int AccessFailedCount { get; set; }\\n}\\n```\\n\\nThis C# class represents the `Identity.Users` table with properties corresponding to each column in the table.'}"
      ]
     },
     "execution_count": 4,
     "metadata": {},
     "output_type": "execute_result"
    }
   ],
   "source": [
    "agent_executor.invoke({\"input\": \"convert the Identity.Users table into a business object class in C#\"})"
   ]
  }
 ],
 "metadata": {
  "kernelspec": {
   "display_name": "python3106_langchain",
   "language": "python",
   "name": "python3"
  },
  "language_info": {
   "codemirror_mode": {
    "name": "ipython",
    "version": 3
   },
   "file_extension": ".py",
   "mimetype": "text/x-python",
   "name": "python",
   "nbconvert_exporter": "python",
   "pygments_lexer": "ipython3",
   "version": "3.10.6"
  }
 },
 "nbformat": 4,
 "nbformat_minor": 2
}
